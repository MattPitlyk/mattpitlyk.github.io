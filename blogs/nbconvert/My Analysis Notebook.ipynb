{
 "cells": [
  {
   "cell_type": "markdown",
   "metadata": {},
   "source": [
    "This example notebook helps illustrate using nbconvert and a jinja2 template to convert a jupyter notebook to a report.  \n",
    "Be sure you turn on `Tags` under `View` -> `Cell Toolbar` to see the metadata tags.  \n",
    "  \n",
    "Tags:  \n",
    "`keep`: include raw or markdown cell in html  \n",
    "`input`: keep the input part of a code cell  \n",
    "`output`: keep the output part of a code cell including any charts or plots"
   ]
  },
  {
   "cell_type": "raw",
   "metadata": {},
   "source": [
    "This next cell is going to be the title of my report."
   ]
  },
  {
   "cell_type": "markdown",
   "metadata": {
    "tags": [
     "keep"
    ]
   },
   "source": [
    "# Data Analysis Report"
   ]
  },
  {
   "cell_type": "markdown",
   "metadata": {
    "tags": [
     "keep"
    ]
   },
   "source": [
    "Introduction and context"
   ]
  },
  {
   "cell_type": "code",
   "execution_count": 6,
   "metadata": {
    "ExecuteTime": {
     "end_time": "2020-09-05T20:02:44.712405Z",
     "start_time": "2020-09-05T20:02:44.707664Z"
    }
   },
   "outputs": [],
   "source": [
    "# Imports\n",
    "import math\n",
    "import random"
   ]
  },
  {
   "cell_type": "code",
   "execution_count": 7,
   "metadata": {
    "ExecuteTime": {
     "end_time": "2020-09-05T20:02:44.826095Z",
     "start_time": "2020-09-05T20:02:44.821093Z"
    }
   },
   "outputs": [],
   "source": [
    "# Load/create data\n",
    "data = [random.random() for _ in range(10)]"
   ]
  },
  {
   "cell_type": "markdown",
   "metadata": {
    "tags": [
     "keep"
    ]
   },
   "source": [
    "### Intermediate results  \n",
    "Explanation of intermediate results"
   ]
  },
  {
   "cell_type": "code",
   "execution_count": 8,
   "metadata": {
    "ExecuteTime": {
     "end_time": "2020-09-05T20:02:45.076230Z",
     "start_time": "2020-09-05T20:02:45.055502Z"
    },
    "tags": [
     "output"
    ]
   },
   "outputs": [
    {
     "data": {
      "text/plain": [
       "[0.03556649626403583,\n",
       " 0.03878691996906453,\n",
       " 0.8189756998189285,\n",
       " 0.48624106051031557,\n",
       " 0.027164973424200854,\n",
       " 0.25294921218312644,\n",
       " 0.8957769506569015,\n",
       " 0.2174302400047508,\n",
       " 0.4357531999482882,\n",
       " 0.06329481513522577]"
      ]
     },
     "execution_count": 8,
     "metadata": {},
     "output_type": "execute_result"
    }
   ],
   "source": [
    "# Do some analysis\n",
    "intermediate_results = [math.pow(n, 2) for n in data]\n",
    "intermediate_results"
   ]
  },
  {
   "cell_type": "markdown",
   "metadata": {
    "tags": [
     "keep"
    ]
   },
   "source": [
    "### Final results  \n",
    "Explanation of final results"
   ]
  },
  {
   "cell_type": "code",
   "execution_count": 9,
   "metadata": {
    "ExecuteTime": {
     "end_time": "2020-09-05T20:02:45.320072Z",
     "start_time": "2020-09-05T20:02:45.314459Z"
    },
    "scrolled": true,
    "tags": [
     "input",
     "output"
    ]
   },
   "outputs": [
    {
     "data": {
      "text/plain": [
       "[2.035566496264036,\n",
       " 2.0387869199690645,\n",
       " 2.8189756998189286,\n",
       " 2.4862410605103156,\n",
       " 2.0271649734242008,\n",
       " 2.2529492121831263,\n",
       " 2.8957769506569013,\n",
       " 2.217430240004751,\n",
       " 2.435753199948288,\n",
       " 2.063294815135226]"
      ]
     },
     "execution_count": 9,
     "metadata": {},
     "output_type": "execute_result"
    }
   ],
   "source": [
    "# Do final analysis\n",
    "# Show this code in report\n",
    "final_results = [n + 2 for n in intermediate_results]\n",
    "final_results"
   ]
  },
  {
   "cell_type": "code",
   "execution_count": null,
   "metadata": {},
   "outputs": [],
   "source": []
  },
  {
   "cell_type": "markdown",
   "metadata": {},
   "source": [
    "The next cell calls the command line tool `nbconvert` to take this notebook, convert it to an html file using `report.tpl` and save it in the same directory that this notebook is in. You can also run this command from a bash shell, Mac terminal, or Windows cmd prompt from within the same directory as this jupyter notebook."
   ]
  },
  {
   "cell_type": "code",
   "execution_count": 12,
   "metadata": {
    "ExecuteTime": {
     "end_time": "2020-09-05T20:39:44.468814Z",
     "start_time": "2020-09-05T20:39:41.673990Z"
    }
   },
   "outputs": [
    {
     "name": "stdout",
     "output_type": "stream",
     "text": [
      "[NbConvertApp] Converting notebook My Analysis Notebook.ipynb to html\n",
      "[NbConvertApp] Writing 274542 bytes to ./My Analysis Notebook.html\n"
     ]
    }
   ],
   "source": [
    "!jupyter nbconvert \"My Analysis Notebook.ipynb\" --template \"report.tpl\" --output-dir \".\" --no-prompt"
   ]
  },
  {
   "cell_type": "code",
   "execution_count": null,
   "metadata": {},
   "outputs": [],
   "source": []
  },
  {
   "cell_type": "code",
   "execution_count": null,
   "metadata": {},
   "outputs": [],
   "source": []
  }
 ],
 "metadata": {
  "celltoolbar": "Tags",
  "kernelspec": {
   "display_name": "Python 3",
   "language": "python",
   "name": "python3"
  },
  "language_info": {
   "codemirror_mode": {
    "name": "ipython",
    "version": 3
   },
   "file_extension": ".py",
   "mimetype": "text/x-python",
   "name": "python",
   "nbconvert_exporter": "python",
   "pygments_lexer": "ipython3",
   "version": "3.8.3"
  },
  "toc": {
   "base_numbering": 1,
   "nav_menu": {},
   "number_sections": true,
   "sideBar": true,
   "skip_h1_title": false,
   "title_cell": "Table of Contents",
   "title_sidebar": "Contents",
   "toc_cell": false,
   "toc_position": {},
   "toc_section_display": true,
   "toc_window_display": false
  }
 },
 "nbformat": 4,
 "nbformat_minor": 2
}
